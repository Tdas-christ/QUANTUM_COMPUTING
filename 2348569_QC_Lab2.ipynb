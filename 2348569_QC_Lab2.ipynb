{
 "cells": [
  {
   "cell_type": "markdown",
   "metadata": {},
   "source": [
    "## **Perform the operation X, Y, Z, H, S, T** "
   ]
  },
  {
   "cell_type": "code",
   "execution_count": 1,
   "metadata": {},
   "outputs": [
    {
     "name": "stdout",
     "output_type": "stream",
     "text": [
      "Requirement already satisfied: pylatexenc in c:\\users\\tanis\\appdata\\local\\programs\\python\\python311\\lib\\site-packages (2.10)\n"
     ]
    },
    {
     "name": "stderr",
     "output_type": "stream",
     "text": [
      "\n",
      "[notice] A new release of pip is available: 24.0 -> 24.2\n",
      "[notice] To update, run: python.exe -m pip install --upgrade pip\n"
     ]
    }
   ],
   "source": [
    "!pip install pylatexenc"
   ]
  },
  {
   "cell_type": "code",
   "execution_count": 2,
   "metadata": {},
   "outputs": [],
   "source": [
    "from qiskit import QuantumCircuit\n",
    "from qiskit.visualization import plot_histogram\n",
    "from qiskit.primitives import Sampler, Estimator\n",
    "import numpy as np\n",
    "import matplotlib.pyplot as plt\n",
    "import warnings\n",
    "warnings.filterwarnings(\"ignore\")"
   ]
  },
  {
   "cell_type": "code",
   "execution_count": 3,
   "metadata": {},
   "outputs": [],
   "source": [
    "# Create a quantum circuit with 1 qubit\n",
    "qc = QuantumCircuit(1, 1)  # 1 qubit, 1 classical bit for measurement"
   ]
  },
  {
   "cell_type": "code",
   "execution_count": 4,
   "metadata": {},
   "outputs": [
    {
     "data": {
      "text/plain": [
       "<qiskit.circuit.instructionset.InstructionSet at 0x280043c2f50>"
      ]
     },
     "execution_count": 4,
     "metadata": {},
     "output_type": "execute_result"
    }
   ],
   "source": [
    "# Apply X, Y, Z, H, S, and T gates sequentially\n",
    "qc.x(0)  # X gate on qubit 0\n",
    "qc.y(0)  # Y gate on qubit 0\n",
    "qc.z(0)  # Z gate on qubit 0\n",
    "qc.h(0)  # Hadamard gate on qubit 0\n",
    "qc.s(0)  # S gate on qubit 0\n",
    "qc.t(0)  # T gate on qubit 0"
   ]
  },
  {
   "cell_type": "markdown",
   "metadata": {},
   "source": [
    "## **Execute the operations on a state vector**\n"
   ]
  },
  {
   "cell_type": "code",
   "execution_count": 5,
   "metadata": {},
   "outputs": [
    {
     "data": {
      "text/plain": [
       "<qiskit.circuit.instructionset.InstructionSet at 0x280043c3580>"
      ]
     },
     "execution_count": 5,
     "metadata": {},
     "output_type": "execute_result"
    }
   ],
   "source": [
    "# Measure the qubit\n",
    "qc.measure(0, 0)"
   ]
  },
  {
   "cell_type": "code",
   "execution_count": null,
   "metadata": {},
   "outputs": [],
   "source": [
    "# Build a quantum circuit\n",
    "circuit = QuantumCircuit(3, 3)\n",
    "circuit.x(1)\n",
    "circuit.h(range(3))\n",
    "circuit.cx(0, 1)\n",
    "circuit.measure(range(3), range(3));"
   ]
  },
  {
   "cell_type": "code",
   "execution_count": 6,
   "metadata": {},
   "outputs": [
    {
     "name": "stdout",
     "output_type": "stream",
     "text": [
      "Figure(687.119x200.667)\n"
     ]
    }
   ],
   "source": [
    "# Step 4: Draw the quantum cricuit\n",
    "circuit.draw(output=\"mpl\")\n",
    "plt.show()"
   ]
  },
  {
   "cell_type": "code",
   "execution_count": 7,
   "metadata": {},
   "outputs": [],
   "source": [
    "# Step 5: Simulate the result of runnign the experiment 10000 times using Sampler\n",
    "sampler = Sampler()\n",
    "job = sampler.run(circuits=qc, shots=10000)\n",
    "result = job.result()\n",
    "counts = result.quasi_dists[0].binary_probabilities()"
   ]
  },
  {
   "cell_type": "code",
   "execution_count": 8,
   "metadata": {},
   "outputs": [],
   "source": [
    "# Plot the result histogram\n",
    "plot_histogram(counts)\n",
    "plt.show()"
   ]
  },
  {
   "cell_type": "code",
   "execution_count": 9,
   "metadata": {},
   "outputs": [
    {
     "data": {
      "text/plain": [
       "<qiskit.circuit.instructionset.InstructionSet at 0x2800450cb20>"
      ]
     },
     "execution_count": 9,
     "metadata": {},
     "output_type": "execute_result"
    }
   ],
   "source": [
    "# Step 6: Prove that R is equivalent to H -> S -> H operation\n",
    "# Create a new circuit to apply H -> S -> H sequence\n",
    "qc_r = QuantumCircuit(1)\n",
    "qc_r.h(0)\n",
    "qc_r.s(0)\n",
    "qc_r.h(0)"
   ]
  },
  {
   "cell_type": "code",
   "execution_count": 10,
   "metadata": {},
   "outputs": [],
   "source": [
    "# Draw the quantum circuit\n",
    "qc_r.draw('mpl')\n",
    "plt.show()"
   ]
  },
  {
   "cell_type": "code",
   "execution_count": 11,
   "metadata": {},
   "outputs": [],
   "source": [
    "# Step 7: Simualte both circuits and compare using Estimator\n",
    "estimator = Estimator()"
   ]
  },
  {
   "cell_type": "code",
   "execution_count": 12,
   "metadata": {},
   "outputs": [],
   "source": [
    "# Define an observable (Pauli-Z operator for example)\n",
    "from qiskit.quantum_info import SparsePauliOp\n",
    "observable = SparsePauliOp.from_list([(\"Z\", 1)])"
   ]
  },
  {
   "cell_type": "code",
   "execution_count": 13,
   "metadata": {},
   "outputs": [],
   "source": [
    "# Simulate original circuit (without measurement)\n",
    "qc_no_measure = qc.copy()\n",
    "qc_no_measure.remove_final_measurements()\n",
    "job_original = estimator.run(qc_no_measure, observables=observable)\n",
    "result_original = job_original.result()\n",
    "statevector_original = result_original.values[0]"
   ]
  },
  {
   "cell_type": "code",
   "execution_count": 14,
   "metadata": {},
   "outputs": [],
   "source": [
    "# Simulate R cicuit\n",
    "job_r = estimator.run(qc_r, observables=observable)\n",
    "result_r = job_r.result()\n",
    "statevector_r = result_r.values[0]"
   ]
  },
  {
   "cell_type": "code",
   "execution_count": 15,
   "metadata": {},
   "outputs": [
    {
     "name": "stdout",
     "output_type": "stream",
     "text": [
      "Statevector after operations X, Y, Z, H, S, T: 1.1102230246251565e-16\n",
      "Statevector after H -> S -> H sequence (R): 0.0\n"
     ]
    }
   ],
   "source": [
    "# Compare state vectors\n",
    "print(\"Statevector after operations X, Y, Z, H, S, T:\", statevector_original)\n",
    "print(\"Statevector after H -> S -> H sequence (R):\", statevector_r)"
   ]
  },
  {
   "cell_type": "code",
   "execution_count": 16,
   "metadata": {},
   "outputs": [
    {
     "name": "stdout",
     "output_type": "stream",
     "text": [
      "The operation R is equivalent to the sequence of H -> S -> H.\n"
     ]
    }
   ],
   "source": [
    "# Prove that R is equivalent to H -> S -> H\n",
    "if np.allclose(statevector_original, statevector_r):\n",
    "    print(\"The operation R is equivalent to the sequence of H -> S -> H.\")\n",
    "else:\n",
    "    print(\"The operation R is NOT equivalent to the sequence of H -> S -> H.\")"
   ]
  }
 ],
 "metadata": {
  "kernelspec": {
   "display_name": "Python 3",
   "language": "python",
   "name": "python3"
  },
  "language_info": {
   "codemirror_mode": {
    "name": "ipython",
    "version": 3
   },
   "file_extension": ".py",
   "mimetype": "text/x-python",
   "name": "python",
   "nbconvert_exporter": "python",
   "pygments_lexer": "ipython3",
   "version": "3.11.9"
  }
 },
 "nbformat": 4,
 "nbformat_minor": 2
}
