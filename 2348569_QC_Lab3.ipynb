{
 "cells": [
  {
   "cell_type": "markdown",
   "metadata": {},
   "source": [
    "### **Using Numpy**"
   ]
  },
  {
   "cell_type": "code",
   "execution_count": 11,
   "metadata": {},
   "outputs": [
    {
     "name": "stdout",
     "output_type": "stream",
     "text": [
      "Tensor product of |ψ₁⟩ and |ψ₂⟩:\n",
      "[0 1 0 0]\n"
     ]
    }
   ],
   "source": [
    "import numpy as np\n",
    "\n",
    "# Step 1: Define the two vectors (|ψ₁⟩ and |ψ₂⟩)\n",
    "psi_1 = np.array([1, 0])  # |0⟩\n",
    "psi_2 = np.array([0, 1])  # |1⟩\n",
    "\n",
    "# Tensor product |ψ₁⟩ ⊗ |ψ₂⟩\n",
    "psi_tensor = np.kron(psi_1, psi_2)\n",
    "print(\"Tensor product of |ψ₁⟩ and |ψ₂⟩:\")\n",
    "print(psi_tensor)"
   ]
  },
  {
   "cell_type": "code",
   "execution_count": null,
   "metadata": {},
   "outputs": [],
   "source": [
    "# Step 2: Define the CNOT operator\n",
    "CNOT = np.array([[1, 0, 0, 0],\n",
    "                 [0, 1, 0, 0],\n",
    "                 [0, 0, 0, 1],\n",
    "                 [0, 0, 1, 0]])"
   ]
  },
  {
   "cell_type": "code",
   "execution_count": 12,
   "metadata": {},
   "outputs": [
    {
     "name": "stdout",
     "output_type": "stream",
     "text": [
      "\n",
      "State after applying CNOT operator:\n",
      "[0 1 0 0]\n"
     ]
    }
   ],
   "source": [
    "# Step 3: Apply the CNOT operator on the tensor product state\n",
    "new_state = np.dot(CNOT, psi_tensor)\n",
    "print(\"\\nState after applying CNOT operator:\")\n",
    "print(new_state)"
   ]
  },
  {
   "cell_type": "code",
   "execution_count": 13,
   "metadata": {},
   "outputs": [],
   "source": [
    "# Step 4: Partial measurement of the first qubit\n",
    "# Projection operator for measuring first qubit in |0⟩\n",
    "P0 = np.array([[1, 0],\n",
    "               [0, 0]])"
   ]
  },
  {
   "cell_type": "code",
   "execution_count": 14,
   "metadata": {},
   "outputs": [],
   "source": [
    "# Extending this to a 4x4 matrix that acts on the full system\n",
    "P0_full = np.kron(P0, np.eye(2))"
   ]
  },
  {
   "cell_type": "code",
   "execution_count": 15,
   "metadata": {},
   "outputs": [],
   "source": [
    "# Apply the projection to get the post-measurement state\n",
    "post_measurement_state = np.dot(P0_full, new_state)\n"
   ]
  },
  {
   "cell_type": "code",
   "execution_count": 16,
   "metadata": {},
   "outputs": [
    {
     "name": "stdout",
     "output_type": "stream",
     "text": [
      "\n",
      "State after partial measurement (first qubit measured in |0⟩):\n",
      "[0. 1. 0. 0.]\n"
     ]
    }
   ],
   "source": [
    "# Normalize the post-measurement state\n",
    "norm = np.linalg.norm(post_measurement_state)\n",
    "if norm != 0:\n",
    "    post_measurement_state /= norm\n",
    "\n",
    "print(\"\\nState after partial measurement (first qubit measured in |0⟩):\")\n",
    "print(post_measurement_state)"
   ]
  },
  {
   "cell_type": "markdown",
   "metadata": {},
   "source": [
    "### **Using Qiskit**"
   ]
  },
  {
   "cell_type": "code",
   "execution_count": 8,
   "metadata": {},
   "outputs": [],
   "source": [
    "from qiskit import QuantumCircuit\n",
    "from qiskit.visualization import plot_histogram\n",
    "from qiskit.quantum_info import Statevector"
   ]
  },
  {
   "cell_type": "code",
   "execution_count": 4,
   "metadata": {},
   "outputs": [
    {
     "data": {
      "text/plain": [
       "<qiskit.circuit.instructionset.InstructionSet at 0x1a61320c850>"
      ]
     },
     "execution_count": 4,
     "metadata": {},
     "output_type": "execute_result"
    }
   ],
   "source": [
    "# Step 1: Initialize the Quantum Circuit with 2 qubits and 2 classical bits\n",
    "qc = QuantumCircuit(2, 2)\n",
    "\n",
    "# Initialize the first qubit |0> (already in this state) and the second qubit |1>\n",
    "qc.x(1)  # Apply X-gate on the second qubit to set it to |1>"
   ]
  },
  {
   "cell_type": "code",
   "execution_count": 5,
   "metadata": {},
   "outputs": [
    {
     "name": "stdout",
     "output_type": "stream",
     "text": [
      "Quantum Circuit:\n",
      "               \n",
      "q_0: ───────■──\n",
      "     ┌───┐┌─┴─┐\n",
      "q_1: ┤ X ├┤ X ├\n",
      "     └───┘└───┘\n",
      "c: 2/══════════\n",
      "               \n"
     ]
    }
   ],
   "source": [
    "# Step 2: Apply the CNOT gate\n",
    "# CNOT gate: control = qubit 0, target = qubit 1\n",
    "qc.cx(0, 1)\n",
    "\n",
    "# Visualize the circuit\n",
    "print(\"Quantum Circuit:\")\n",
    "print(qc)"
   ]
  },
  {
   "cell_type": "code",
   "execution_count": 6,
   "metadata": {},
   "outputs": [
    {
     "data": {
      "text/plain": [
       "<qiskit.circuit.instructionset.InstructionSet at 0x1a61320cc10>"
      ]
     },
     "execution_count": 6,
     "metadata": {},
     "output_type": "execute_result"
    }
   ],
   "source": [
    "# Step 3: Measure the qubits\n",
    "qc.measure([0, 1], [0, 1])"
   ]
  },
  {
   "cell_type": "code",
   "execution_count": 9,
   "metadata": {},
   "outputs": [
    {
     "ename": "NameError",
     "evalue": "name 'QasmSimulator' is not defined",
     "output_type": "error",
     "traceback": [
      "\u001b[1;31m---------------------------------------------------------------------------\u001b[0m",
      "\u001b[1;31mNameError\u001b[0m                                 Traceback (most recent call last)",
      "Cell \u001b[1;32mIn[9], line 1\u001b[0m\n\u001b[1;32m----> 1\u001b[0m backend \u001b[38;5;241m=\u001b[39m \u001b[43mQasmSimulator\u001b[49m()\n\u001b[0;32m      2\u001b[0m backend_options \u001b[38;5;241m=\u001b[39m {\u001b[38;5;124m\"\u001b[39m\u001b[38;5;124mmethod\u001b[39m\u001b[38;5;124m\"\u001b[39m: \u001b[38;5;124m\"\u001b[39m\u001b[38;5;124mstatevector\u001b[39m\u001b[38;5;124m\"\u001b[39m}\n\u001b[0;32m      4\u001b[0m \u001b[38;5;66;03m# Circuit execution\u001b[39;00m\n",
      "\u001b[1;31mNameError\u001b[0m: name 'QasmSimulator' is not defined"
     ]
    }
   ],
   "source": [
    "backend = QasmSimulator()\n",
    "backend_options = {\"method\": \"statevector\"}\n",
    " \n",
    "# Circuit execution\n",
    "job = execute(circuits, backend, backend_options=backend_options)\n",
    " \n",
    "# Qobj execution\n",
    "job = backend.run(qobj, backend_options=backend_options)"
   ]
  },
  {
   "cell_type": "code",
   "execution_count": 10,
   "metadata": {},
   "outputs": [
    {
     "ename": "NameError",
     "evalue": "name 'Aer' is not defined",
     "output_type": "error",
     "traceback": [
      "\u001b[1;31m---------------------------------------------------------------------------\u001b[0m",
      "\u001b[1;31mNameError\u001b[0m                                 Traceback (most recent call last)",
      "Cell \u001b[1;32mIn[10], line 2\u001b[0m\n\u001b[0;32m      1\u001b[0m \u001b[38;5;66;03m# Step 4: Simulate the circuit using the qasm simulator\u001b[39;00m\n\u001b[1;32m----> 2\u001b[0m simulator \u001b[38;5;241m=\u001b[39m \u001b[43mAer\u001b[49m\u001b[38;5;241m.\u001b[39mget_backend(\u001b[38;5;124m'\u001b[39m\u001b[38;5;124mqasm_simulator\u001b[39m\u001b[38;5;124m'\u001b[39m)\n\u001b[0;32m      3\u001b[0m job \u001b[38;5;241m=\u001b[39m QasmSimulator\u001b[38;5;241m.\u001b[39mrun(qc, simulator, shots\u001b[38;5;241m=\u001b[39m\u001b[38;5;241m1024\u001b[39m)\n\u001b[0;32m      4\u001b[0m result \u001b[38;5;241m=\u001b[39m job\u001b[38;5;241m.\u001b[39mresult()\n",
      "\u001b[1;31mNameError\u001b[0m: name 'Aer' is not defined"
     ]
    }
   ],
   "source": [
    "# Step 4: Simulate the circuit using the qasm simulator\n",
    "simulator = Aer.get_backend('qasm_simulator')\n",
    "job = QasmSimulator.run(qc, simulator, shots=1024)\n",
    "result = job.result()"
   ]
  },
  {
   "cell_type": "code",
   "execution_count": null,
   "metadata": {},
   "outputs": [],
   "source": [
    "\n",
    "# Get the counts (i.e., measurement outcomes)\n",
    "counts = result.get_counts(qc)\n",
    "\n",
    "# Plot the histogram of the outcomes\n",
    "plot_histogram(counts)\n",
    "\n",
    "# Display the quantum circuit diagram\n",
    "qc.draw(output='mpl')\n",
    "\n",
    "# Optional: View the statevector (before measurement)\n",
    "state = Statevector.from_instruction(qc)\n",
    "print(\"\\nStatevector before measurement:\")\n",
    "print(state)"
   ]
  }
 ],
 "metadata": {
  "kernelspec": {
   "display_name": "Python 3",
   "language": "python",
   "name": "python3"
  },
  "language_info": {
   "codemirror_mode": {
    "name": "ipython",
    "version": 3
   },
   "file_extension": ".py",
   "mimetype": "text/x-python",
   "name": "python",
   "nbconvert_exporter": "python",
   "pygments_lexer": "ipython3",
   "version": "3.11.9"
  }
 },
 "nbformat": 4,
 "nbformat_minor": 2
}
