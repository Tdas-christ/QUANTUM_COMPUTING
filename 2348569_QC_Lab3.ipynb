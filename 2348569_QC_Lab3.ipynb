{
 "cells": [
  {
   "cell_type": "markdown",
   "metadata": {},
   "source": [
    "### **Using Numpy**"
   ]
  },
  {
   "cell_type": "code",
   "execution_count": 107,
   "metadata": {},
   "outputs": [
    {
     "name": "stdout",
     "output_type": "stream",
     "text": [
      "Tensor product of |ψ₁⟩ and |ψ₂⟩:\n",
      "[0 1 0 0]\n"
     ]
    }
   ],
   "source": [
    "import numpy as np\n",
    "\n",
    "# Step 1: Define the two vectors (|ψ₁⟩ and |ψ₂⟩)\n",
    "psi_1 = np.array([1, 0])  # |0⟩\n",
    "psi_2 = np.array([0, 1])  # |1⟩\n",
    "\n",
    "# Tensor product |ψ₁⟩ ⊗ |ψ₂⟩\n",
    "psi_tensor = np.kron(psi_1, psi_2)\n",
    "print(\"Tensor product of |ψ₁⟩ and |ψ₂⟩:\")\n",
    "print(psi_tensor)"
   ]
  },
  {
   "cell_type": "code",
   "execution_count": 108,
   "metadata": {},
   "outputs": [],
   "source": [
    "# Step 2: Define the CNOT operator\n",
    "CNOT = np.array([[1, 0, 0, 0],\n",
    "                 [0, 1, 0, 0],\n",
    "                 [0, 0, 0, 1],\n",
    "                 [0, 0, 1, 0]])"
   ]
  },
  {
   "cell_type": "code",
   "execution_count": 109,
   "metadata": {},
   "outputs": [
    {
     "name": "stdout",
     "output_type": "stream",
     "text": [
      "\n",
      "State after applying CNOT operator:\n",
      "[0 1 0 0]\n"
     ]
    }
   ],
   "source": [
    "# Step 3: Apply the CNOT operator on the tensor product state\n",
    "new_state = np.dot(CNOT, psi_tensor)\n",
    "print(\"\\nState after applying CNOT operator:\")\n",
    "print(new_state)"
   ]
  },
  {
   "cell_type": "code",
   "execution_count": 110,
   "metadata": {},
   "outputs": [],
   "source": [
    "# Step 4: Partial measurement of the first qubit\n",
    "# Projection operator for measuring first qubit in |0⟩\n",
    "P0 = np.array([[1, 0],\n",
    "               [0, 0]])"
   ]
  },
  {
   "cell_type": "code",
   "execution_count": 111,
   "metadata": {},
   "outputs": [],
   "source": [
    "# Extending this to a 4x4 matrix that acts on the full system\n",
    "P0_full = np.kron(P0, np.eye(2))"
   ]
  },
  {
   "cell_type": "code",
   "execution_count": 112,
   "metadata": {},
   "outputs": [],
   "source": [
    "# Apply the projection to get the post-measurement state\n",
    "post_measurement_state = np.dot(P0_full, new_state)\n"
   ]
  },
  {
   "cell_type": "code",
   "execution_count": 113,
   "metadata": {},
   "outputs": [
    {
     "name": "stdout",
     "output_type": "stream",
     "text": [
      "\n",
      "State after partial measurement (first qubit measured in |0⟩):\n",
      "[0. 1. 0. 0.]\n"
     ]
    }
   ],
   "source": [
    "# Normalize the post-measurement state\n",
    "norm = np.linalg.norm(post_measurement_state)\n",
    "if norm != 0:\n",
    "    post_measurement_state /= norm\n",
    "\n",
    "print(\"\\nState after partial measurement (first qubit measured in |0⟩):\")\n",
    "print(post_measurement_state)"
   ]
  },
  {
   "cell_type": "markdown",
   "metadata": {},
   "source": [
    "### **Using Qiskit**"
   ]
  },
  {
   "cell_type": "code",
   "execution_count": 114,
   "metadata": {},
   "outputs": [],
   "source": [
    "from qiskit import QuantumCircuit, transpile, assemble\n",
    "from qiskit.visualization import plot_histogram\n",
    "from qiskit.quantum_info import Statevector, Operator\n",
    "from qiskit_aer import Aer"
   ]
  },
  {
   "cell_type": "code",
   "execution_count": 115,
   "metadata": {},
   "outputs": [],
   "source": [
    "# Step 1: Initialize the Quantum Circuit with 2 qubits\n",
    "qc = QuantumCircuit(2)\n"
   ]
  },
  {
   "cell_type": "code",
   "execution_count": 116,
   "metadata": {},
   "outputs": [
    {
     "name": "stdout",
     "output_type": "stream",
     "text": [
      "Quantum Circuit:\n",
      "          \n",
      "q_0: ──■──\n",
      "     ┌─┴─┐\n",
      "q_1: ┤ X ├\n",
      "     └───┘\n"
     ]
    }
   ],
   "source": [
    "# Step 2: Apply the CNOT gate\n",
    "# CNOT gate: control = qubit 0, target = qubit 1\n",
    "qc.cx(0,1)\n",
    "\n",
    "# Visualize the circuit\n",
    "print(\"Quantum Circuit:\")\n",
    "print(qc)"
   ]
  },
  {
   "cell_type": "code",
   "execution_count": 117,
   "metadata": {},
   "outputs": [
    {
     "data": {
      "image/png": "[encoded data removed]",
      "text/plain": [
       "<Figure size 203.683x200.667 with 1 Axes>"
      ]
     },
     "metadata": {},
     "output_type": "display_data"
    }
   ],
   "source": [
    "display(qc.draw(\"mpl\"))"
   ]
  },
  {
   "cell_type": "code",
   "execution_count": 118,
   "metadata": {},
   "outputs": [],
   "source": [
    "# Step 3: Measure the qubits\n",
    "qc.measure_all()"
   ]
  },
  {
   "cell_type": "code",
   "execution_count": 119,
   "metadata": {},
   "outputs": [
    {
     "name": "stdout",
     "output_type": "stream",
     "text": [
      "Statevector([1.+0.j, 0.+0.j, 0.+0.j, 0.+0.j],\n",
      "            dims=(2, 2))\n"
     ]
    }
   ],
   "source": [
    "# Simulate the circuit\n",
    "backend = Aer.get_backend('statevector_simulator')\n",
    "result = backend.run(qc).result()\n",
    "statevector = result.get_statevector()\n",
    "print(statevector)"
   ]
  },
  {
   "cell_type": "code",
   "execution_count": 120,
   "metadata": {},
   "outputs": [
    {
     "name": "stdout",
     "output_type": "stream",
     "text": [
      "State after applying Rz operator:\n",
      "Statevector([1.+0.j, 0.+0.j],\n",
      "            dims=(2,))\n",
      "Partial measurement result:\n",
      "{'0': 1024}\n"
     ]
    }
   ],
   "source": [
    "# Define a custom operator (e.g., rotation operator Rz)\n",
    "rz_operator = Operator([[1, 0], [0, np.exp(1j * np.pi / 4)]])\n",
    "\n",
    "# Apply the operator to a single-qubit state\n",
    "qc = QuantumCircuit(1)\n",
    "qc.initialize([1, 0], 0)  # Initialize in |0>\n",
    "qc.unitary(rz_operator, [0], label=\"Rz\")  # Apply Rz\n",
    "\n",
    "# Simulate the resulting state\n",
    "state = Statevector.from_instruction(qc)\n",
    "print(\"State after applying Rz operator:\")\n",
    "print(state)\n",
    "\n",
    "# Perform partial measurement\n",
    "qc.measure_all()\n",
    "simulator = Aer.get_backend('aer_simulator')\n",
    "result = simulator.run(qc, shots=1024).result()\n",
    "counts = result.get_counts()\n",
    "print(\"Partial measurement result:\")\n",
    "print(counts)\n"
   ]
  },
  {
   "cell_type": "code",
   "execution_count": 121,
   "metadata": {},
   "outputs": [
    {
     "name": "stdout",
     "output_type": "stream",
     "text": [
      "CSWAP Matrix Representation:\n",
      "[[1.+0.j 0.+0.j 0.+0.j 0.+0.j 0.+0.j 0.+0.j 0.+0.j 0.+0.j]\n",
      " [0.+0.j 1.+0.j 0.+0.j 0.+0.j 0.+0.j 0.+0.j 0.+0.j 0.+0.j]\n",
      " [0.+0.j 0.+0.j 1.+0.j 0.+0.j 0.+0.j 0.+0.j 0.+0.j 0.+0.j]\n",
      " [0.+0.j 0.+0.j 0.+0.j 0.+0.j 0.+0.j 1.+0.j 0.+0.j 0.+0.j]\n",
      " [0.+0.j 0.+0.j 0.+0.j 0.+0.j 1.+0.j 0.+0.j 0.+0.j 0.+0.j]\n",
      " [0.+0.j 0.+0.j 0.+0.j 1.+0.j 0.+0.j 0.+0.j 0.+0.j 0.+0.j]\n",
      " [0.+0.j 0.+0.j 0.+0.j 0.+0.j 0.+0.j 0.+0.j 1.+0.j 0.+0.j]\n",
      " [0.+0.j 0.+0.j 0.+0.j 0.+0.j 0.+0.j 0.+0.j 0.+0.j 1.+0.j]]\n",
      "\n",
      "CSWAP Dirac Notation:\n",
      "|a, b, c⟩ → |a, c, b⟩ if a = 1; otherwise no swap\n"
     ]
    }
   ],
   "source": [
    "from qiskit.quantum_info import Operator\n",
    "\n",
    "# Define CSWAP gate\n",
    "qc_cswap = QuantumCircuit(3)\n",
    "qc_cswap.cswap(0, 1, 2)  # Control on qubit 0, swap qubits 1 and 2\n",
    "cswap_operator = Operator(qc_cswap)\n",
    "\n",
    "# Print the matrix representation\n",
    "print(\"CSWAP Matrix Representation:\")\n",
    "print(cswap_operator.data)\n",
    "\n",
    "# Dirac notation:\n",
    "print(\"\\nCSWAP Dirac Notation:\")\n",
    "print(\"|a, b, c⟩ → |a, c, b⟩ if a = 1; otherwise no swap\")\n"
   ]
  },
  {
   "cell_type": "code",
   "execution_count": 122,
   "metadata": {},
   "outputs": [
    {
     "name": "stdout",
     "output_type": "stream",
     "text": [
      "Toffoli Matrix Representation:\n",
      "[[1.+0.j 0.+0.j 0.+0.j 0.+0.j 0.+0.j 0.+0.j 0.+0.j 0.+0.j]\n",
      " [0.+0.j 1.+0.j 0.+0.j 0.+0.j 0.+0.j 0.+0.j 0.+0.j 0.+0.j]\n",
      " [0.+0.j 0.+0.j 1.+0.j 0.+0.j 0.+0.j 0.+0.j 0.+0.j 0.+0.j]\n",
      " [0.+0.j 0.+0.j 0.+0.j 0.+0.j 0.+0.j 0.+0.j 0.+0.j 1.+0.j]\n",
      " [0.+0.j 0.+0.j 0.+0.j 0.+0.j 1.+0.j 0.+0.j 0.+0.j 0.+0.j]\n",
      " [0.+0.j 0.+0.j 0.+0.j 0.+0.j 0.+0.j 1.+0.j 0.+0.j 0.+0.j]\n",
      " [0.+0.j 0.+0.j 0.+0.j 0.+0.j 0.+0.j 0.+0.j 1.+0.j 0.+0.j]\n",
      " [0.+0.j 0.+0.j 0.+0.j 1.+0.j 0.+0.j 0.+0.j 0.+0.j 0.+0.j]]\n",
      "\n",
      "Toffoli Dirac Notation:\n",
      "|a, b, c⟩ → |a, b, c ⊕ (a ⋅ b)⟩\n"
     ]
    }
   ],
   "source": [
    "# Define Toffoli gate\n",
    "qc_toffoli = QuantumCircuit(3)\n",
    "qc_toffoli.ccx(0, 1, 2)  # Control on qubits 0, 1, target on qubit 2\n",
    "toffoli_operator = Operator(qc_toffoli)\n",
    "\n",
    "# Print the matrix representation\n",
    "print(\"Toffoli Matrix Representation:\")\n",
    "print(toffoli_operator.data)\n",
    "\n",
    "# Dirac notation:\n",
    "print(\"\\nToffoli Dirac Notation:\")\n",
    "print(\"|a, b, c⟩ → |a, b, c ⊕ (a ⋅ b)⟩\")\n"
   ]
  }
 ],
 "metadata": {
  "kernelspec": {
   "display_name": "Python 3",
   "language": "python",
   "name": "python3"
  },
  "language_info": {
   "codemirror_mode": {
    "name": "ipython",
    "version": 3
   },
   "file_extension": ".py",
   "mimetype": "text/x-python",
   "name": "python",
   "nbconvert_exporter": "python",
   "pygments_lexer": "ipython3",
   "version": "3.11.9"
  }
 },
 "nbformat": 4,
 "nbformat_minor": 2
}
