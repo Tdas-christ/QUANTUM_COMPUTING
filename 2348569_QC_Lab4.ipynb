{
 "cells": [
  {
   "cell_type": "code",
   "execution_count": 17,
   "metadata": {},
   "outputs": [],
   "source": [
    "from qiskit import *\n",
    "from qiskit_aer import Aer, StatevectorSimulator\n",
    "import numpy as np\n",
    "from qiskit.visualization import plot_histogram\n",
    "from qiskit.quantum_info import Operator, state_fidelity, Statevector"
   ]
  },
  {
   "cell_type": "markdown",
   "metadata": {},
   "source": [
    "### Part 1: HSHT Circuit\n"
   ]
  },
  {
   "cell_type": "code",
   "execution_count": 18,
   "metadata": {},
   "outputs": [
    {
     "name": "stdout",
     "output_type": "stream",
     "text": [
      "Part 1: Testing HSHT circuit\n",
      "Output for |0> input: Statevector([0.5       +5.00000000e-01j, 0.70710678-5.55111512e-17j],\n",
      "            dims=(2,))\n",
      "Output for |1> input: Statevector([5.00000000e-01-0.5j       , 1.66533454e-16+0.70710678j],\n",
      "            dims=(2,))\n"
     ]
    }
   ],
   "source": [
    "# Define the circuit with one qubit\n",
    "qc0 = QuantumCircuit(1)\n",
    "\n",
    "# Apply H, S, and T gates in sequence\n",
    "qc0.h(0)\n",
    "qc0.s(0)\n",
    "qc0.h(0)\n",
    "qc0.t(0)\n",
    "\n",
    "qc1 = QuantumCircuit(1)\n",
    "qc1.x(0)\n",
    "# Apply H, S, and T gates in sequence\n",
    "qc1.h(0)\n",
    "qc1.s(0)\n",
    "qc1.h(0)\n",
    "qc1.t(0)\n",
    "\n",
    "\n",
    "backend = Aer.get_backend('statevector_simulator')\n",
    "job0 = backend.run(qc0)\n",
    "job1 = backend.run(qc1)\n",
    "\n",
    "state0 = job0.result().get_statevector()\n",
    "state1 = job1.result().get_statevector()\n",
    "\n",
    "print(\"Part 1: Testing HSHT circuit\")\n",
    "print(f\"Output for |0> input: {state0}\")\n",
    "print(f\"Output for |1> input: {state1}\")"
   ]
  },
  {
   "cell_type": "markdown",
   "metadata": {},
   "source": [
    "### Part 2: Check HSHT reversibility\n"
   ]
  },
  {
   "cell_type": "code",
   "execution_count": 19,
   "metadata": {},
   "outputs": [
    {
     "name": "stdout",
     "output_type": "stream",
     "text": [
      "\n",
      "Part 2: Testing HSHT Reversibility\n",
      "Is HSHT reversible? True\n"
     ]
    }
   ],
   "source": [
    "op = Operator(qc0)\n",
    "op_dag = op.conjugate().transpose()\n",
    "identity = op.compose(op_dag)\n",
    "is_unitary = np.allclose(identity.data, np.eye(2))\n",
    "\n",
    "\n",
    "print(\"\\nPart 2: Testing HSHT Reversibility\")\n",
    "print(f\"Is HSHT reversible? {is_unitary}\")"
   ]
  },
  {
   "cell_type": "markdown",
   "metadata": {},
   "source": [
    "### Part 3: Create Bell State circuit\n"
   ]
  },
  {
   "cell_type": "code",
   "execution_count": 20,
   "metadata": {},
   "outputs": [
    {
     "name": "stdout",
     "output_type": "stream",
     "text": [
      "Output for input state |00⟩: Statevector([0.70710678+0.j, 0.        +0.j, 0.        +0.j,\n",
      "             0.70710678+0.j],\n",
      "            dims=(2, 2))\n"
     ]
    },
    {
     "name": "stdout",
     "output_type": "stream",
     "text": [
      "Output for input state |01⟩: Statevector([ 0.70710678-8.65956056e-17j,  0.        +0.00000000e+00j,\n",
      "              0.        +0.00000000e+00j, -0.70710678+8.65956056e-17j],\n",
      "            dims=(2, 2))\n",
      "Output for input state |10⟩: Statevector([0.        +0.j, 0.70710678+0.j, 0.70710678+0.j,\n",
      "             0.        +0.j],\n",
      "            dims=(2, 2))\n",
      "Output for input state |11⟩: Statevector([ 0.        +0.00000000e+00j, -0.70710678+8.65956056e-17j,\n",
      "              0.70710678-8.65956056e-17j,  0.        +0.00000000e+00j],\n",
      "            dims=(2, 2))\n"
     ]
    }
   ],
   "source": [
    "# Define a two-qubit quantum circuit\n",
    "circuit_bell = QuantumCircuit(2)\n",
    "\n",
    "# Apply H gate to the first qubit (creating superposition)\n",
    "circuit_bell.h(0)\n",
    "\n",
    "# Apply CNOT gate with the first qubit as control and the second as target\n",
    "circuit_bell.cx(0, 1)\n",
    "\n",
    "# Backend for simulation\n",
    "simulator = StatevectorSimulator()\n",
    "\n",
    "# Define the input states |00⟩, |01⟩, |10⟩, |11⟩\n",
    "input_states = [\n",
    "    [1, 0, 0, 0],  # |00>\n",
    "    [0, 1, 0, 0],  # |01>\n",
    "    [0, 0, 1, 0],  # |10>\n",
    "    [0, 0, 0, 1]   # |11>\n",
    "]\n",
    "\n",
    "# Simulate for each input state\n",
    "for i, input_state in enumerate(input_states):\n",
    "    # Initialize the input state\n",
    "    circuit_test = QuantumCircuit(2)\n",
    "    circuit_test.initialize(input_state, [0, 1])\n",
    "    circuit_test.compose(circuit_bell, inplace=True)\n",
    "    \n",
    "    # Transpile and run the circuit on the statevector simulator\n",
    "    transpiled_circuit = transpile(circuit_test, simulator)\n",
    "    result = simulator.run(transpiled_circuit).result()\n",
    "    \n",
    "    # Get the output statevector\n",
    "    output_statevector = result.get_statevector()\n",
    "    print(f\"Output for input state |{i:02b}⟩:\", output_statevector)\n"
   ]
  },
  {
   "cell_type": "code",
   "execution_count": 21,
   "metadata": {},
   "outputs": [
    {
     "data": {
      "image/png": "[encoded data removed]",
      "text/plain": [
       "<Figure size 640x480 with 1 Axes>"
      ]
     },
     "execution_count": 21,
     "metadata": {},
     "output_type": "execute_result"
    }
   ],
   "source": [
    "stats  = result.get_counts(transpiled_circuit)\n",
    "plot_histogram(stats)"
   ]
  }
 ],
 "metadata": {
  "kernelspec": {
   "display_name": "Python 3",
   "language": "python",
   "name": "python3"
  },
  "language_info": {
   "codemirror_mode": {
    "name": "ipython",
    "version": 3
   },
   "file_extension": ".py",
   "mimetype": "text/x-python",
   "name": "python",
   "nbconvert_exporter": "python",
   "pygments_lexer": "ipython3",
   "version": "3.11.9"
  }
 },
 "nbformat": 4,
 "nbformat_minor": 2
}
